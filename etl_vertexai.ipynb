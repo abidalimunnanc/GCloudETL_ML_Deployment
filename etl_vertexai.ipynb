{
 "cells": [
  {
   "cell_type": "markdown",
   "id": "798fcec6",
   "metadata": {},
   "source": [
    "# 🔹 Setup and Imports\n",
    "This section installs and imports required libraries for the ETL and ML pipeline."
   ]
  },
  {
   "cell_type": "markdown",
   "id": "61018e92",
   "metadata": {},
   "source": [
    "# Google Cloud ETL Pipeline with Machine Learning Model Deployment\n",
    "\n",
    "### SQL - BigQuery - VertexAi "
   ]
  },
  {
   "cell_type": "code",
   "execution_count": null,
   "id": "d7ecf760",
   "metadata": {},
   "outputs": [],
   "source": [
    "# STEP 0: Setup\n",
    "PROJECT_ID = \"gcloud-flow-123\"\n",
    "REGION = \"us-central1\"\n",
    "INSTANCE_NAME = \"sales-db\"\n",
    "DB_NAME = \"diamonds_db\"\n",
    "BUCKET_NAME = \"diamonds-etl-bucket-123\"\n",
    "BQ_DATASET = \"diamonds_wh\"\n",
    "BQ_TABLE = \"diamonds_parent\"\n",
    "USER = \"etl_user\"\n"
   ]
  },
  {
   "cell_type": "code",
   "execution_count": null,
   "id": "15eb1d5e",
   "metadata": {},
   "outputs": [],
   "source": [
    "!gcloud sql instances describe $INSTANCE_NAME \\\n",
    "  --project=$PROJECT_ID \\\n",
    "  --format=\"value(serviceAccountEmailAddress)\"\n"
   ]
  },
  {
   "cell_type": "code",
   "execution_count": null,
   "id": "9eb24d0d",
   "metadata": {},
   "outputs": [],
   "source": [
    "!gsutil iam ch serviceAccount:pxxxxxxxxxxxxxxxxx-qir44b@gcp-sa-cloud-sql.iam.gserviceaccount.com:roles/storage.objectAdmin gs://$BUCKET_NAME\n"
   ]
  },
  {
   "cell_type": "code",
   "execution_count": null,
   "id": "9ff257de",
   "metadata": {},
   "outputs": [],
   "source": [
    "!gcloud sql export csv $INSTANCE_NAME gs://$BUCKET_NAME/diamonds_ideal.csv \\\n",
    "  --database=$DB_NAME \\\n",
    "  --query=\"SELECT * FROM diamonds_ideal\" \\\n",
    "  --project=$PROJECT_ID\n",
    "\n"
   ]
  },
  {
   "cell_type": "markdown",
   "id": "ed94036f",
   "metadata": {},
   "source": [
    "# 🔹 Load Raw Data\n",
    "Here we load the raw sales or diamonds dataset from CSV/BigQuery/Cloud Storage."
   ]
  },
  {
   "cell_type": "code",
   "execution_count": null,
   "id": "2bbb07e1",
   "metadata": {},
   "outputs": [],
   "source": [
    "!gcloud sql export csv $INSTANCE_NAME gs://$BUCKET_NAME/diamonds_premium.csv \\\n",
    "  --database=$DB_NAME \\\n",
    "  --query=\"SELECT * FROM diamonds_premium\" \\\n",
    "  --project=$PROJECT_ID\n",
    "\n"
   ]
  },
  {
   "cell_type": "code",
   "execution_count": null,
   "id": "34b23444",
   "metadata": {},
   "outputs": [],
   "source": [
    "!gcloud sql export csv $INSTANCE_NAME gs://$BUCKET_NAME/diamonds_good.csv \\\n",
    "  --database=$DB_NAME \\\n",
    "  --query=\"SELECT * FROM diamonds_good\" \\\n",
    "  --project=$PROJECT_ID\n",
    "\n"
   ]
  },
  {
   "cell_type": "code",
   "execution_count": null,
   "id": "34934430",
   "metadata": {},
   "outputs": [],
   "source": [
    "!gcloud sql export csv $INSTANCE_NAME gs://$BUCKET_NAME/diamonds_very_good.csv \\\n",
    "  --database=$DB_NAME \\\n",
    "  --query=\"SELECT * FROM diamonds_very_good\" \\\n",
    "  --project=$PROJECT_ID\n",
    "\n"
   ]
  },
  {
   "cell_type": "code",
   "execution_count": null,
   "id": "1607a119",
   "metadata": {},
   "outputs": [],
   "source": [
    "!gcloud sql export csv $INSTANCE_NAME gs://$BUCKET_NAME/diamonds_fair.csv \\\n",
    "  --database=$DB_NAME \\\n",
    "  --query=\"SELECT * FROM diamonds_fair\" \\\n",
    "  --project=$PROJECT_ID\n",
    "\n"
   ]
  },
  {
   "cell_type": "code",
   "execution_count": null,
   "id": "e7e34c71",
   "metadata": {},
   "outputs": [],
   "source": [
    "!gcloud storage buckets list --project=$PROJECT_ID\n"
   ]
  },
  {
   "cell_type": "markdown",
   "id": "e35b49a2",
   "metadata": {},
   "source": [
    "# 🔹 Data Transformation\n",
    "We perform cleaning and transformation (renaming columns, aggregating tables, etc.)."
   ]
  },
  {
   "cell_type": "code",
   "execution_count": null,
   "id": "86b79232",
   "metadata": {},
   "outputs": [],
   "source": [
    "!gcloud storage ls gs://$BUCKET_NAME\n"
   ]
  },
  {
   "cell_type": "code",
   "execution_count": null,
   "id": "867e5030",
   "metadata": {},
   "outputs": [],
   "source": [
    "!bq mk --dataset $PROJECT_ID:$BQ_DATASET"
   ]
  },
  {
   "cell_type": "code",
   "execution_count": null,
   "id": "eed5f2b6",
   "metadata": {},
   "outputs": [],
   "source": [
    "!bq load \\\n",
    "  --autodetect \\\n",
    "  --source_format=CSV \\\n",
    "  gcloud-flow-123:diamonds_wh.diamonds_ideal \\\n",
    "  gs://$BUCKET_NAME/diamonds_ideal.csv\n"
   ]
  },
  {
   "cell_type": "code",
   "execution_count": null,
   "id": "42ab1054",
   "metadata": {},
   "outputs": [],
   "source": [
    "!bq load \\\n",
    "  --autodetect \\\n",
    "  --source_format=CSV \\\n",
    "  gcloud-flow-123:diamonds_wh.diamonds_premium \\\n",
    "  gs://$BUCKET_NAME/diamonds_premium.csv\n"
   ]
  },
  {
   "cell_type": "code",
   "execution_count": null,
   "id": "2bb3ba98",
   "metadata": {},
   "outputs": [],
   "source": [
    "!bq load \\\n",
    "  --autodetect \\\n",
    "  --source_format=CSV \\\n",
    "  gcloud-flow-123:diamonds_wh.diamonds_good \\\n",
    "  gs://$BUCKET_NAME/diamonds_good.csv\n"
   ]
  },
  {
   "cell_type": "markdown",
   "id": "011df3ce",
   "metadata": {},
   "source": [
    "# 🔹 Load into BigQuery\n",
    "We create or replace tables in BigQuery with the processed data."
   ]
  },
  {
   "cell_type": "code",
   "execution_count": null,
   "id": "8c45ddf7",
   "metadata": {},
   "outputs": [],
   "source": [
    "!bq load \\\n",
    "  --autodetect \\\n",
    "  --source_format=CSV \\\n",
    "  gcloud-flow-123:diamonds_wh.diamonds_very_good \\\n",
    "  gs://$BUCKET_NAME/diamonds_very_good.csv\n"
   ]
  },
  {
   "cell_type": "code",
   "execution_count": null,
   "id": "5e8897a9",
   "metadata": {},
   "outputs": [],
   "source": [
    "!bq load \\\n",
    "  --autodetect \\\n",
    "  --source_format=CSV \\\n",
    "  gcloud-flow-123:diamonds_wh.diamonds_fair \\\n",
    "  gs://$BUCKET_NAME/diamonds_fair.csv\n"
   ]
  },
  {
   "cell_type": "code",
   "execution_count": null,
   "id": "afe024f6",
   "metadata": {},
   "outputs": [],
   "source": [
    "!bq ls gcloud-flow-123:diamonds_wh\n"
   ]
  },
  {
   "cell_type": "code",
   "execution_count": null,
   "id": "84e55ccf",
   "metadata": {},
   "outputs": [],
   "source": [
    "!bq query --use_legacy_sql=false \\\n",
    "\"CREATE OR REPLACE TABLE \\`gcloud-flow-123.diamonds_wh.diamonds_full\\` AS \\\n",
    "SELECT double_field_0 AS carat,string_field_1 AS cut,string_field_2 AS color, string_field_3 AS clarity, double_field_4 AS depth, double_field_5 AS table, double_field_6 AS x, double_field_7 AS y, double_field_8 AS z, int64_field_9 AS price \\\n",
    "FROM \\`gcloud-flow-123.diamonds_wh.diamonds_fair\\` \\\n",
    "UNION ALL \\\n",
    "SELECT double_field_0, string_field_1, string_field_2, string_field_3,double_field_4, double_field_5, double_field_6, double_field_7, double_field_8, int64_field_9 \\\n",
    "FROM \\`gcloud-flow-123.diamonds_wh.diamonds_good\\` \\\n",
    "UNION ALL \\\n",
    "SELECT double_field_0, string_field_1, string_field_2, string_field_3,double_field_4, double_field_5, double_field_6, double_field_7, double_field_8, int64_field_9 \\\n",
    "FROM \\`gcloud-flow-123.diamonds_wh.diamonds_ideal\\` \\\n",
    "UNION ALL \\\n",
    "SELECT double_field_0, string_field_1, string_field_2, string_field_3,double_field_4, double_field_5, double_field_6, double_field_7, double_field_8, int64_field_9 \\\n",
    "FROM \\`gcloud-flow-123.diamonds_wh.diamonds_premium\\` \\\n",
    "UNION ALL \\\n",
    "SELECT double_field_0, string_field_1, string_field_2, string_field_3,double_field_4, double_field_5, double_field_6, double_field_7, double_field_8, int64_field_9 \\\n",
    "FROM \\`gcloud-flow-123.diamonds_wh.diamonds_very_good\\`;\" \n"
   ]
  },
  {
   "cell_type": "code",
   "execution_count": null,
   "id": "a09efb4f",
   "metadata": {},
   "outputs": [],
   "source": [
    "# !bq show --format=prettyjson gcloud-flow-123:diamonds_wh.diamonds_fair\n"
   ]
  },
  {
   "cell_type": "markdown",
   "id": "646c71f2",
   "metadata": {},
   "source": [
    "# 🔹 Train ML Model in Vertex AI\n",
    "Using AutoML Tabular Regression to train a price prediction model."
   ]
  },
  {
   "cell_type": "code",
   "execution_count": null,
   "id": "9f947885",
   "metadata": {},
   "outputs": [],
   "source": [
    "!bq query --use_legacy_sql=false \\\n",
    "\"SELECT * FROM \\`gcloud-flow-123.diamonds_wh.diamonds_full\\` LIMIT 10\"\n"
   ]
  },
  {
   "cell_type": "code",
   "execution_count": null,
   "id": "da183725",
   "metadata": {},
   "outputs": [],
   "source": [
    "PROJECT_ID=\"gcloud-flow-123\"\n",
    "REGION=\"us-central1\"\n",
    "BQ_TABLE=\"diamonds_full\"\n",
    "MODEL_DISPLAY_NAME=\"diamond_price_predictor\"\n"
   ]
  },
  {
   "cell_type": "code",
   "execution_count": null,
   "id": "127c4b86",
   "metadata": {},
   "outputs": [],
   "source": [
    "!gcloud services enable aiplatform.googleapis.com\n"
   ]
  },
  {
   "cell_type": "code",
   "execution_count": null,
   "id": "c85b16d8",
   "metadata": {},
   "outputs": [],
   "source": [
    "!export GRPC_VERBOSITY=ERROR\n"
   ]
  },
  {
   "cell_type": "code",
   "execution_count": null,
   "id": "0e2706a9",
   "metadata": {},
   "outputs": [],
   "source": [
    "from google.cloud import aiplatform\n",
    "\n",
    "PROJECT_ID = \"gcloud-flow-123\"\n",
    "REGION = \"us-central1\"\n",
    "BQ_TABLE = f\"bq://{PROJECT_ID}.diamonds_wh.diamonds_full\"\n",
    "MODEL_DISPLAY_NAME = \"diamond_price_predictor\"\n",
    "\n",
    "aiplatform.init(project=PROJECT_ID, location=REGION)\n",
    "\n",
    "# Create Tabular Dataset using the correct URI\n",
    "dataset = aiplatform.TabularDataset.create(\n",
    "    display_name=\"diamonds_dataset\",\n",
    "    bq_source=BQ_TABLE\n",
    ")\n"
   ]
  },
  {
   "cell_type": "markdown",
   "id": "75be0557",
   "metadata": {},
   "source": [
    "# 🔹 Deploy Model and Predict\n",
    "Deploy the trained model to a Vertex AI endpoint and run predictions."
   ]
  },
  {
   "cell_type": "code",
   "execution_count": null,
   "id": "17b04fb3",
   "metadata": {},
   "outputs": [],
   "source": [
    "model = aiplatform.AutoMLTabularTrainingJob(\n",
    "    display_name=MODEL_DISPLAY_NAME,\n",
    "    optimization_prediction_type=\"regression\"\n",
    ")\n",
    "\n",
    "model = model.run(\n",
    "    dataset=dataset,\n",
    "    target_column=\"price\",\n",
    "    budget_milli_node_hours=1000  # 1 hour\n",
    ")\n"
   ]
  },
  {
   "cell_type": "code",
   "execution_count": null,
   "id": "198b2781",
   "metadata": {},
   "outputs": [],
   "source": [
    "endpoint = model.deploy(\n",
    "    machine_type=\"n1-standard-4\",\n",
    "    min_replica_count=1,\n",
    "    max_replica_count=1,\n",
    ")\n"
   ]
  },
  {
   "cell_type": "code",
   "execution_count": null,
   "id": "e0d97c61",
   "metadata": {},
   "outputs": [],
   "source": [
    "instances = [\n",
    "    {\n",
    "        \"carat\": 6.0,\n",
    "        \"cut\": \"Ideal\",\n",
    "        \"color\": \"H\",\n",
    "        \"clarity\": \"VS2\",\n",
    "        \"depth\": 61.5,\n",
    "        \"table\": 55.0,\n",
    "        \"x\": 6.5,\n",
    "        \"y\": 6.5,\n",
    "        \"z\": 4.0\n",
    "    }\n",
    "]\n",
    "\n",
    "prediction = endpoint.predict(instances=instances)\n",
    "\n",
    "print(\"Prediction:\", prediction)\n"
   ]
  },
  {
   "cell_type": "code",
   "execution_count": null,
   "id": "8a2b6b26",
   "metadata": {},
   "outputs": [],
   "source": [
    "batch_prediction_job = model.batch_predict(\n",
    "    job_display_name=\"diamonds_batch_predict\",\n",
    "    bigquery_source=\"bq://gcloud-flow-123.sales_dw.diamonds_full\",\n",
    "    bigquery_destination_prefix=\"bq://gcloud-flow-123.sales_dw.diamonds_predictions\",\n",
    "    machine_type=\"n1-standard-4\",\n",
    "    sync=True\n",
    ")\n"
   ]
  }
 ],
 "metadata": {
  "kernelspec": {
   "display_name": "venv",
   "language": "python",
   "name": "python3"
  },
  "language_info": {
   "codemirror_mode": {
    "name": "ipython",
    "version": 3
   },
   "file_extension": ".py",
   "mimetype": "text/x-python",
   "name": "python",
   "nbconvert_exporter": "python",
   "pygments_lexer": "ipython3",
   "version": "3.10.12"
  }
 },
 "nbformat": 4,
 "nbformat_minor": 5
}
